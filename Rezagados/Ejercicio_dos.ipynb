{
 "cells": [
  {
   "cell_type": "code",
   "execution_count": 2,
   "metadata": {},
   "outputs": [],
   "source": [
    "import requests\n",
    "import re\n",
    "import polars as pl\n",
    "from bs4 import BeautifulSoup as bs"
   ]
  },
  {
   "cell_type": "code",
   "execution_count": 18,
   "metadata": {},
   "outputs": [],
   "source": [
    "url = \"https://www.ncbi.nlm.nih.gov/\""
   ]
  },
  {
   "cell_type": "code",
   "execution_count": 33,
   "metadata": {},
   "outputs": [],
   "source": [
    "adicional = \"protein/?term=caseine\""
   ]
  },
  {
   "cell_type": "code",
   "execution_count": 34,
   "metadata": {},
   "outputs": [],
   "source": [
    "r = requests.get(url+adicional)\n",
    "r\n",
    "page = bs(r.text, 'html.parser')"
   ]
  },
  {
   "cell_type": "code",
   "execution_count": 35,
   "metadata": {},
   "outputs": [
    {
     "data": {
      "text/html": [
       "<div><style>\n",
       ".dataframe > thead > tr > th,\n",
       ".dataframe > tbody > tr > td {\n",
       "  text-align: right;\n",
       "}\n",
       "</style>\n",
       "<small>shape: (19, 1)</small><table border=\"1\" class=\"dataframe\"><thead><tr><th>Nombre</th></tr><tr><td>str</td></tr></thead><tbody><tr><td>&quot;CASEINE KINASE…</td></tr><tr><td>&quot;caseine kinase…</td></tr><tr><td>&quot;caseine kinase…</td></tr><tr><td>&quot;caseine kinase…</td></tr><tr><td>&quot;caseine kinase…</td></tr><tr><td>&quot;caseine kinase…</td></tr><tr><td>&quot;caseine kinase…</td></tr><tr><td>&quot;caseine kinase…</td></tr><tr><td>&quot;multicopy supr…</td></tr><tr><td>&quot;caseine kinase…</td></tr><tr><td>&quot;RecName: Full=…</td></tr><tr><td>&quot;hypothetical p…</td></tr><tr><td>&quot;protein kinase…</td></tr><tr><td>&quot;uncharacterize…</td></tr><tr><td>&quot;YALI0D16863p […</td></tr><tr><td>&quot;hypothetical p…</td></tr><tr><td>&quot;YALI0D16863p […</td></tr><tr><td>&quot;KLLA0F23353p […</td></tr><tr><td>&quot;unnamed protei…</td></tr></tbody></table></div>"
      ],
      "text/plain": [
       "shape: (19, 1)\n",
       "┌───────────────────────────────────┐\n",
       "│ Nombre                            │\n",
       "│ ---                               │\n",
       "│ str                               │\n",
       "╞═══════════════════════════════════╡\n",
       "│ CASEINE KINASE 1 [Encephalitozoo… │\n",
       "│ caseine kinase 1 [Encephalitozoo… │\n",
       "│ caseine kinase 1 [Encephalitozoo… │\n",
       "│ caseine kinase 1 [Encephalitozoo… │\n",
       "│ …                                 │\n",
       "│ hypothetical protein YALI1_D2076… │\n",
       "│ YALI0D16863p [Yarrowia lipolytic… │\n",
       "│ KLLA0F23353p [Kluyveromyces lact… │\n",
       "│ unnamed protein product [Diadrom… │\n",
       "└───────────────────────────────────┘"
      ]
     },
     "execution_count": 35,
     "metadata": {},
     "output_type": "execute_result"
    }
   ],
   "source": [
    "#nombre\n",
    "soup = page.find_all('p', {'class': 'title'})\n",
    "lista = []\n",
    "for i in range(len(soup)):\n",
    "    nombre = soup[i].text\n",
    "    lista.append(nombre)\n",
    "df = pl.DataFrame({'Nombre': lista})\n",
    "df"
   ]
  },
  {
   "cell_type": "code",
   "execution_count": 36,
   "metadata": {},
   "outputs": [
    {
     "data": {
      "text/html": [
       "<div><style>\n",
       ".dataframe > thead > tr > th,\n",
       ".dataframe > tbody > tr > td {\n",
       "  text-align: right;\n",
       "}\n",
       "</style>\n",
       "<small>shape: (19, 1)</small><table border=\"1\" class=\"dataframe\"><thead><tr><th>Accession</th></tr><tr><td>str</td></tr></thead><tbody><tr><td>&quot;CAD26108.1&quot;</td></tr><tr><td>&quot;XP_003074047.1…</td></tr><tr><td>&quot;XP_009265665.1…</td></tr><tr><td>&quot;AFN84168.1&quot;</td></tr><tr><td>&quot;ADM12687.1&quot;</td></tr><tr><td>&quot;CDW72457.1&quot;</td></tr><tr><td>&quot;AGE94921.1&quot;</td></tr><tr><td>&quot;CAB05446.1&quot;</td></tr><tr><td>&quot;CAA70217.1&quot;</td></tr><tr><td>&quot;CAA56127.1&quot;</td></tr><tr><td>&quot;P02662.2&quot;</td></tr><tr><td>&quot;YP_009640103.1…</td></tr><tr><td>&quot;NP_586504.1&quot;</td></tr><tr><td>&quot;XP_456120.1&quot;</td></tr><tr><td>&quot;XP_502914.1&quot;</td></tr><tr><td>&quot;AOW04165.1&quot;</td></tr><tr><td>&quot;CAG81105.1&quot;</td></tr><tr><td>&quot;CAG98828.1&quot;</td></tr><tr><td>&quot;CCA61472.1&quot;</td></tr></tbody></table></div>"
      ],
      "text/plain": [
       "shape: (19, 1)\n",
       "┌────────────────┐\n",
       "│ Accession      │\n",
       "│ ---            │\n",
       "│ str            │\n",
       "╞════════════════╡\n",
       "│ CAD26108.1     │\n",
       "│ XP_003074047.1 │\n",
       "│ XP_009265665.1 │\n",
       "│ AFN84168.1     │\n",
       "│ …              │\n",
       "│ AOW04165.1     │\n",
       "│ CAG81105.1     │\n",
       "│ CAG98828.1     │\n",
       "│ CCA61472.1     │\n",
       "└────────────────┘"
      ]
     },
     "execution_count": 36,
     "metadata": {},
     "output_type": "execute_result"
    }
   ],
   "source": [
    "#Accession\n",
    "soup_2 = page.find_all('dl', {'class': 'rprtid'})\n",
    "lista_2 = []\n",
    "for nombres in range(len(soup_2)):\n",
    "    nombre = soup_2[nombres].text\n",
    "    nombre_regex = re.search(r'Accession:\\s([A-Z0-9_.]*)', nombre)\n",
    "    lista_2.append(nombre_regex.group(1))\n",
    "df_2 = pl.DataFrame({'Accession':lista_2})\n",
    "df_2"
   ]
  },
  {
   "cell_type": "code",
   "execution_count": 37,
   "metadata": {},
   "outputs": [
    {
     "data": {
      "text/html": [
       "<div><style>\n",
       ".dataframe > thead > tr > th,\n",
       ".dataframe > tbody > tr > td {\n",
       "  text-align: right;\n",
       "}\n",
       "</style>\n",
       "<small>shape: (19, 1)</small><table border=\"1\" class=\"dataframe\"><thead><tr><th>GI</th></tr><tr><td>str</td></tr></thead><tbody><tr><td>&quot;19069723&quot;</td></tr><tr><td>&quot;303391635&quot;</td></tr><tr><td>&quot;685882473&quot;</td></tr><tr><td>&quot;396082559&quot;</td></tr><tr><td>&quot;303303196&quot;</td></tr><tr><td>&quot;678343414&quot;</td></tr><tr><td>&quot;449328644&quot;</td></tr><tr><td>&quot;1694914&quot;</td></tr><tr><td>&quot;1654007&quot;</td></tr><tr><td>&quot;499076&quot;</td></tr><tr><td>&quot;115646&quot;</td></tr><tr><td>&quot;1678209804&quot;</td></tr><tr><td>&quot;19074998&quot;</td></tr><tr><td>&quot;50312177&quot;</td></tr><tr><td>&quot;50550883&quot;</td></tr><tr><td>&quot;1078657052&quot;</td></tr><tr><td>&quot;49648782&quot;</td></tr><tr><td>&quot;49645256&quot;</td></tr><tr><td>&quot;327198771&quot;</td></tr></tbody></table></div>"
      ],
      "text/plain": [
       "shape: (19, 1)\n",
       "┌────────────┐\n",
       "│ GI         │\n",
       "│ ---        │\n",
       "│ str        │\n",
       "╞════════════╡\n",
       "│ 19069723   │\n",
       "│ 303391635  │\n",
       "│ 685882473  │\n",
       "│ 396082559  │\n",
       "│ …          │\n",
       "│ 1078657052 │\n",
       "│ 49648782   │\n",
       "│ 49645256   │\n",
       "│ 327198771  │\n",
       "└────────────┘"
      ]
     },
     "execution_count": 37,
     "metadata": {},
     "output_type": "execute_result"
    }
   ],
   "source": [
    "#GI\n",
    "soup_3 = page.find_all('dl', {'class': 'rprtid'})\n",
    "lista_3 = []\n",
    "for gis in range(len(soup_3)):\n",
    "    gi = soup_3[gis].text\n",
    "    gi_regex = re.search(r'GI:\\s([A-Z0-9_.]*)', gi)\n",
    "    lista_3.append(gi_regex.group(1))\n",
    "df_3 = pl.DataFrame({'GI':lista_3})\n",
    "df_3"
   ]
  },
  {
   "cell_type": "code",
   "execution_count": 38,
   "metadata": {},
   "outputs": [
    {
     "data": {
      "text/html": [
       "<div><style>\n",
       ".dataframe > thead > tr > th,\n",
       ".dataframe > tbody > tr > td {\n",
       "  text-align: right;\n",
       "}\n",
       "</style>\n",
       "<small>shape: (19, 1)</small><table border=\"1\" class=\"dataframe\"><thead><tr><th>fasta</th></tr><tr><td>str</td></tr></thead><tbody><tr><td>&quot;&quot;</td></tr><tr><td>&quot;&quot;</td></tr><tr><td>&quot;&quot;</td></tr><tr><td>&quot;&quot;</td></tr><tr><td>&quot;&quot;</td></tr><tr><td>&quot;&quot;</td></tr><tr><td>&quot;&quot;</td></tr><tr><td>&quot;&quot;</td></tr><tr><td>&quot;&quot;</td></tr><tr><td>&quot;&quot;</td></tr><tr><td>&quot;&quot;</td></tr><tr><td>&quot;&quot;</td></tr><tr><td>&quot;&quot;</td></tr><tr><td>&quot;&quot;</td></tr><tr><td>&quot;&quot;</td></tr><tr><td>&quot;&quot;</td></tr><tr><td>&quot;&quot;</td></tr><tr><td>&quot;&quot;</td></tr><tr><td>&quot;&quot;</td></tr></tbody></table></div>"
      ],
      "text/plain": [
       "shape: (19, 1)\n",
       "┌───────┐\n",
       "│ fasta │\n",
       "│ ---   │\n",
       "│ str   │\n",
       "╞═══════╡\n",
       "│       │\n",
       "│       │\n",
       "│       │\n",
       "│       │\n",
       "│ …     │\n",
       "│       │\n",
       "│       │\n",
       "│       │\n",
       "│       │\n",
       "└───────┘"
      ]
     },
     "execution_count": 38,
     "metadata": {},
     "output_type": "execute_result"
    }
   ],
   "source": [
    "#fasta\n",
    "\n",
    "soup_4 = page.find_all('a', {'id': 'ReportShortCut6'})\n",
    "lista_4 = []\n",
    "for fastas in soup_4:\n",
    "    url_2 = url+fastas['href']\n",
    "    r_2 = requests.get(url_2)\n",
    "    page_2 = bs(r_2.text, 'html.parser')\n",
    "    soup_4 = page_2.find_all('div', {'class': 'seq gbff'})\n",
    "    for escrito in range(len(soup_4)):\n",
    "        fasta = soup_4[escrito].text\n",
    "        lista_4.append(fasta)\n",
    "df_4 = pl.DataFrame({'fasta': lista_4})\n",
    "df_4"
   ]
  },
  {
   "cell_type": "code",
   "execution_count": 39,
   "metadata": {},
   "outputs": [
    {
     "data": {
      "text/html": [
       "<div><style>\n",
       ".dataframe > thead > tr > th,\n",
       ".dataframe > tbody > tr > td {\n",
       "  text-align: right;\n",
       "}\n",
       "</style>\n",
       "<small>shape: (19, 4)</small><table border=\"1\" class=\"dataframe\"><thead><tr><th>Nombre</th><th>Accession</th><th>GI</th><th>fasta</th></tr><tr><td>str</td><td>str</td><td>str</td><td>str</td></tr></thead><tbody><tr><td>&quot;CASEINE KINASE…</td><td>&quot;CAD26108.1&quot;</td><td>&quot;19069723&quot;</td><td>&quot;&quot;</td></tr><tr><td>&quot;caseine kinase…</td><td>&quot;XP_003074047.1…</td><td>&quot;303391635&quot;</td><td>&quot;&quot;</td></tr><tr><td>&quot;caseine kinase…</td><td>&quot;XP_009265665.1…</td><td>&quot;685882473&quot;</td><td>&quot;&quot;</td></tr><tr><td>&quot;caseine kinase…</td><td>&quot;AFN84168.1&quot;</td><td>&quot;396082559&quot;</td><td>&quot;&quot;</td></tr><tr><td>&quot;caseine kinase…</td><td>&quot;ADM12687.1&quot;</td><td>&quot;303303196&quot;</td><td>&quot;&quot;</td></tr><tr><td>&quot;caseine kinase…</td><td>&quot;CDW72457.1&quot;</td><td>&quot;678343414&quot;</td><td>&quot;&quot;</td></tr><tr><td>&quot;caseine kinase…</td><td>&quot;AGE94921.1&quot;</td><td>&quot;449328644&quot;</td><td>&quot;&quot;</td></tr><tr><td>&quot;caseine kinase…</td><td>&quot;CAB05446.1&quot;</td><td>&quot;1694914&quot;</td><td>&quot;&quot;</td></tr><tr><td>&quot;multicopy supr…</td><td>&quot;CAA70217.1&quot;</td><td>&quot;1654007&quot;</td><td>&quot;&quot;</td></tr><tr><td>&quot;caseine kinase…</td><td>&quot;CAA56127.1&quot;</td><td>&quot;499076&quot;</td><td>&quot;&quot;</td></tr><tr><td>&quot;RecName: Full=…</td><td>&quot;P02662.2&quot;</td><td>&quot;115646&quot;</td><td>&quot;&quot;</td></tr><tr><td>&quot;hypothetical p…</td><td>&quot;YP_009640103.1…</td><td>&quot;1678209804&quot;</td><td>&quot;&quot;</td></tr><tr><td>&quot;protein kinase…</td><td>&quot;NP_586504.1&quot;</td><td>&quot;19074998&quot;</td><td>&quot;&quot;</td></tr><tr><td>&quot;uncharacterize…</td><td>&quot;XP_456120.1&quot;</td><td>&quot;50312177&quot;</td><td>&quot;&quot;</td></tr><tr><td>&quot;YALI0D16863p […</td><td>&quot;XP_502914.1&quot;</td><td>&quot;50550883&quot;</td><td>&quot;&quot;</td></tr><tr><td>&quot;hypothetical p…</td><td>&quot;AOW04165.1&quot;</td><td>&quot;1078657052&quot;</td><td>&quot;&quot;</td></tr><tr><td>&quot;YALI0D16863p […</td><td>&quot;CAG81105.1&quot;</td><td>&quot;49648782&quot;</td><td>&quot;&quot;</td></tr><tr><td>&quot;KLLA0F23353p […</td><td>&quot;CAG98828.1&quot;</td><td>&quot;49645256&quot;</td><td>&quot;&quot;</td></tr><tr><td>&quot;unnamed protei…</td><td>&quot;CCA61472.1&quot;</td><td>&quot;327198771&quot;</td><td>&quot;&quot;</td></tr></tbody></table></div>"
      ],
      "text/plain": [
       "shape: (19, 4)\n",
       "┌───────────────────────────────────┬────────────────┬────────────┬───────┐\n",
       "│ Nombre                            ┆ Accession      ┆ GI         ┆ fasta │\n",
       "│ ---                               ┆ ---            ┆ ---        ┆ ---   │\n",
       "│ str                               ┆ str            ┆ str        ┆ str   │\n",
       "╞═══════════════════════════════════╪════════════════╪════════════╪═══════╡\n",
       "│ CASEINE KINASE 1 [Encephalitozoo… ┆ CAD26108.1     ┆ 19069723   ┆       │\n",
       "│ caseine kinase 1 [Encephalitozoo… ┆ XP_003074047.1 ┆ 303391635  ┆       │\n",
       "│ caseine kinase 1 [Encephalitozoo… ┆ XP_009265665.1 ┆ 685882473  ┆       │\n",
       "│ caseine kinase 1 [Encephalitozoo… ┆ AFN84168.1     ┆ 396082559  ┆       │\n",
       "│ …                                 ┆ …              ┆ …          ┆ …     │\n",
       "│ hypothetical protein YALI1_D2076… ┆ AOW04165.1     ┆ 1078657052 ┆       │\n",
       "│ YALI0D16863p [Yarrowia lipolytic… ┆ CAG81105.1     ┆ 49648782   ┆       │\n",
       "│ KLLA0F23353p [Kluyveromyces lact… ┆ CAG98828.1     ┆ 49645256   ┆       │\n",
       "│ unnamed protein product [Diadrom… ┆ CCA61472.1     ┆ 327198771  ┆       │\n",
       "└───────────────────────────────────┴────────────────┴────────────┴───────┘"
      ]
     },
     "execution_count": 39,
     "metadata": {},
     "output_type": "execute_result"
    }
   ],
   "source": [
    "df_final = pl.concat([df, df_2, df_3, df_4], how=\"horizontal\")\n",
    "df_final"
   ]
  },
  {
   "cell_type": "code",
   "execution_count": 57,
   "metadata": {},
   "outputs": [],
   "source": [
    "df_final.write_csv('secuencias.csv')"
   ]
  }
 ],
 "metadata": {
  "kernelspec": {
   "display_name": "Python 3",
   "language": "python",
   "name": "python3"
  },
  "language_info": {
   "codemirror_mode": {
    "name": "ipython",
    "version": 3
   },
   "file_extension": ".py",
   "mimetype": "text/x-python",
   "name": "python",
   "nbconvert_exporter": "python",
   "pygments_lexer": "ipython3",
   "version": "3.10.4"
  },
  "orig_nbformat": 4
 },
 "nbformat": 4,
 "nbformat_minor": 2
}
